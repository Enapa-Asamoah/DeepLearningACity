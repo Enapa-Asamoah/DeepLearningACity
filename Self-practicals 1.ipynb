{
 "cells": [
  {
   "cell_type": "markdown",
   "id": "3b7dbc3d-1ea9-4fae-9fd9-f2e1eaa34f72",
   "metadata": {},
   "source": [
    "**Operations for Tensors**"
   ]
  },
  {
   "cell_type": "code",
   "execution_count": 8,
   "id": "27ba1f5f-380e-4786-937c-0940fb5ff51e",
   "metadata": {},
   "outputs": [],
   "source": [
    "import torch"
   ]
  },
  {
   "cell_type": "code",
   "execution_count": 9,
   "id": "26684f1b-9b2c-47ef-98dd-ed89fef1e310",
   "metadata": {},
   "outputs": [
    {
     "name": "stdout",
     "output_type": "stream",
     "text": [
      "tensor([0., 0., 0.])\n"
     ]
    }
   ],
   "source": [
    "x = torch.empty(3)\n",
    "print(x)"
   ]
  },
  {
   "cell_type": "code",
   "execution_count": 10,
   "id": "0aa04325-d910-451f-97f6-ee841967de78",
   "metadata": {},
   "outputs": [
    {
     "name": "stdout",
     "output_type": "stream",
     "text": [
      "tensor([[0.3633, 0.2588],\n",
      "        [0.3116, 0.8289],\n",
      "        [0.5019, 0.2329]])\n"
     ]
    }
   ],
   "source": [
    "x = torch.rand(3,2)\n",
    "print(x)"
   ]
  },
  {
   "cell_type": "code",
   "execution_count": 11,
   "id": "28fb3e77-5a5c-4e6b-bf48-24529c5f56a2",
   "metadata": {},
   "outputs": [
    {
     "name": "stdout",
     "output_type": "stream",
     "text": [
      "torch.int32\n",
      "torch.Size([2, 4])\n"
     ]
    }
   ],
   "source": [
    "x = torch.ones(2,4, dtype=torch.int)\n",
    "print(x.dtype)\n",
    "print(x.size())"
   ]
  },
  {
   "cell_type": "code",
   "execution_count": 12,
   "id": "c00672f5-5588-4387-85da-ab950001a325",
   "metadata": {},
   "outputs": [
    {
     "name": "stdout",
     "output_type": "stream",
     "text": [
      "tensor([1, 2, 3, 4])\n"
     ]
    }
   ],
   "source": [
    "x = [1,2,3,4]\n",
    "x = torch.tensor(x)\n",
    "print(x)"
   ]
  },
  {
   "cell_type": "code",
   "execution_count": 13,
   "id": "47e3dffb-be36-44b1-9fc4-44c785864055",
   "metadata": {},
   "outputs": [
    {
     "name": "stdout",
     "output_type": "stream",
     "text": [
      "tensor([3, 5, 7, 9])\n",
      "[2, 3, 4, 5]\n"
     ]
    }
   ],
   "source": [
    "y = [2,3,4,5]\n",
    "z = x+torch.tensor(y)\n",
    "print(z)\n",
    "print(y)"
   ]
  },
  {
   "cell_type": "code",
   "execution_count": 14,
   "id": "c2d19cdd-e637-4502-a2fc-5a5fd73216e4",
   "metadata": {},
   "outputs": [
    {
     "data": {
      "text/plain": [
       "tensor([ 5,  8, 11, 14])"
      ]
     },
     "execution_count": 14,
     "metadata": {},
     "output_type": "execute_result"
    }
   ],
   "source": [
    "torch.add(z, torch.tensor(y))"
   ]
  },
  {
   "cell_type": "code",
   "execution_count": 15,
   "id": "a35525eb-422e-4acc-a65b-11b1465a8be3",
   "metadata": {},
   "outputs": [
    {
     "data": {
      "text/plain": [
       "tensor([2, 3, 4, 5])"
      ]
     },
     "execution_count": 15,
     "metadata": {},
     "output_type": "execute_result"
    }
   ],
   "source": [
    "torch.sub(z, x)"
   ]
  },
  {
   "cell_type": "code",
   "execution_count": 16,
   "id": "b8192848-984a-40ab-99f1-9ff456c82383",
   "metadata": {},
   "outputs": [
    {
     "data": {
      "text/plain": [
       "tensor([ 3, 10, 21, 36])"
      ]
     },
     "execution_count": 16,
     "metadata": {},
     "output_type": "execute_result"
    }
   ],
   "source": [
    "torch.mul(z, x)"
   ]
  },
  {
   "cell_type": "code",
   "execution_count": 17,
   "id": "5e80ce8b-e30d-4adf-b5e1-0908bc48e06d",
   "metadata": {},
   "outputs": [
    {
     "data": {
      "text/plain": [
       "tensor([3.0000, 2.5000, 2.3333, 2.2500])"
      ]
     },
     "execution_count": 17,
     "metadata": {},
     "output_type": "execute_result"
    }
   ],
   "source": [
    "torch.div(z, x)"
   ]
  },
  {
   "cell_type": "code",
   "execution_count": 18,
   "id": "6ae7fb29-9fd5-490d-b617-c3c69c4bf324",
   "metadata": {},
   "outputs": [
    {
     "name": "stdout",
     "output_type": "stream",
     "text": [
      "tensor([2, 3, 4, 5])\n"
     ]
    },
    {
     "data": {
      "text/plain": [
       "tensor([ 4,  6,  8, 10])"
      ]
     },
     "execution_count": 18,
     "metadata": {},
     "output_type": "execute_result"
    }
   ],
   "source": [
    "a = torch.tensor(y)\n",
    "print(a)\n",
    "a.add_(z-x)"
   ]
  },
  {
   "cell_type": "code",
   "execution_count": 19,
   "id": "c57c6c44-6537-41b9-9dfb-4d812dda426c",
   "metadata": {},
   "outputs": [
    {
     "name": "stdout",
     "output_type": "stream",
     "text": [
      "tensor([[0.5767, 0.3088, 0.4683, 0.6107, 0.7042],\n",
      "        [0.2034, 0.8364, 0.2035, 0.0315, 0.9281],\n",
      "        [0.4152, 0.1173, 0.5279, 0.1867, 0.7699],\n",
      "        [0.3690, 0.7718, 0.1115, 0.5540, 0.1183]])\n",
      "tensor([0.2034, 0.8364, 0.2035, 0.0315, 0.9281])\n",
      "0.415224552154541\n"
     ]
    },
    {
     "data": {
      "text/plain": [
       "torch.Size([4, 5])"
      ]
     },
     "execution_count": 19,
     "metadata": {},
     "output_type": "execute_result"
    }
   ],
   "source": [
    "r = torch.rand(4,5)\n",
    "print(r)\n",
    "print(r[1,:])\n",
    "print(r[2,0].item())\n",
    "r.size()"
   ]
  },
  {
   "cell_type": "code",
   "execution_count": 20,
   "id": "bcc78f6e-f0ae-48d8-8532-c5b867f63ffc",
   "metadata": {},
   "outputs": [
    {
     "name": "stdout",
     "output_type": "stream",
     "text": [
      "tensor([[0.5767, 0.3088],\n",
      "        [0.4683, 0.6107],\n",
      "        [0.7042, 0.2034],\n",
      "        [0.8364, 0.2035],\n",
      "        [0.0315, 0.9281],\n",
      "        [0.4152, 0.1173],\n",
      "        [0.5279, 0.1867],\n",
      "        [0.7699, 0.3690],\n",
      "        [0.7718, 0.1115],\n",
      "        [0.5540, 0.1183]])\n"
     ]
    },
    {
     "data": {
      "text/plain": [
       "torch.Size([10, 2])"
      ]
     },
     "execution_count": 20,
     "metadata": {},
     "output_type": "execute_result"
    }
   ],
   "source": [
    "r = r.view(-1, 2)\n",
    "print(r)\n",
    "r.size()"
   ]
  },
  {
   "cell_type": "markdown",
   "id": "cd89f68b-8d69-48a7-bf48-bc0ac5ea43dd",
   "metadata": {},
   "source": [
    "**Conversion from Numpy array to Tensor and vice versa**"
   ]
  },
  {
   "cell_type": "code",
   "execution_count": 22,
   "id": "dffdfb6d-a34f-4ed3-b68b-aa50b46334bb",
   "metadata": {},
   "outputs": [],
   "source": [
    "import numpy as np"
   ]
  },
  {
   "cell_type": "code",
   "execution_count": 23,
   "id": "fa296a35-4eb8-455e-aa11-2e8353f27cfb",
   "metadata": {},
   "outputs": [
    {
     "name": "stdout",
     "output_type": "stream",
     "text": [
      "tensor([0., 0., 0., 0.])\n",
      "[0. 0. 0. 0.]\n",
      "float32\n"
     ]
    }
   ],
   "source": [
    "a = torch.zeros(4)\n",
    "print(a)\n",
    "b = a.numpy()\n",
    "print(b)\n",
    "print(b.dtype)"
   ]
  },
  {
   "cell_type": "code",
   "execution_count": 24,
   "id": "f708f904-91f5-474c-ad94-e7012ca9d275",
   "metadata": {},
   "outputs": [
    {
     "name": "stdout",
     "output_type": "stream",
     "text": [
      "[1. 1. 1. 1. 1.]\n",
      "tensor([1., 1., 1., 1., 1.], dtype=torch.float64)\n"
     ]
    }
   ],
   "source": [
    "a = np.ones(5)\n",
    "print(a)\n",
    "b = torch.from_numpy(a)\n",
    "print(b)"
   ]
  },
  {
   "cell_type": "markdown",
   "id": "a8cd9e9a-7835-451d-95bd-6a9670bb8aaa",
   "metadata": {},
   "source": [
    "**Gradient Calculation with Autograd**"
   ]
  },
  {
   "cell_type": "code",
   "execution_count": 54,
   "id": "2aa87911-1865-48ce-aeea-aaaa5b7e24bd",
   "metadata": {},
   "outputs": [
    {
     "name": "stdout",
     "output_type": "stream",
     "text": [
      "tensor([-0.6300,  1.0058, -2.7907], requires_grad=True)\n",
      "tensor([-0.6300,  1.0058, -2.7907])\n"
     ]
    }
   ],
   "source": [
    "x = torch.randn(3, requires_grad=True)\n",
    "print(x)\n",
    "x.requires_grad_(False)\n",
    "print(x)"
   ]
  },
  {
   "cell_type": "code",
   "execution_count": 50,
   "id": "3e2a707e-f88b-4631-8333-98df213d1115",
   "metadata": {},
   "outputs": [
    {
     "name": "stdout",
     "output_type": "stream",
     "text": [
      "tensor([1.6410, 1.8742, 1.4072], grad_fn=<AddBackward0>)\n",
      "tensor([5.3860, 7.0256, 3.9602], grad_fn=<MulBackward0>)\n",
      "tensor(5.4573, grad_fn=<MeanBackward0>)\n"
     ]
    }
   ],
   "source": [
    "y=x+2\n",
    "z=y*y*2\n",
    "print(y)\n",
    "print(z)\n",
    "z= z.mean()\n",
    "print(z)"
   ]
  },
  {
   "cell_type": "code",
   "execution_count": 52,
   "id": "016039f1-cede-4b5f-8537-6dab4815284b",
   "metadata": {},
   "outputs": [
    {
     "name": "stdout",
     "output_type": "stream",
     "text": [
      "tensor([2.1880, 2.4990, 1.8762])\n"
     ]
    }
   ],
   "source": [
    "z.backward()\n",
    "print(x.grad)"
   ]
  },
  {
   "cell_type": "markdown",
   "id": "41b34859-c3a6-4870-9790-23f7cda52759",
   "metadata": {},
   "source": [
    "**Dummy Training Example For Calculation of Gradients**"
   ]
  },
  {
   "cell_type": "code",
   "execution_count": 64,
   "id": "56035baf-ac7e-420f-a9f6-8a78df4cbe17",
   "metadata": {},
   "outputs": [
    {
     "name": "stdout",
     "output_type": "stream",
     "text": [
      "tensor([3., 3., 3., 3.])\n",
      "tensor([3., 3., 3., 3.])\n"
     ]
    }
   ],
   "source": [
    "weights =torch.ones(4, requires_grad=True)\n",
    "\n",
    "for  epoch in range(2):\n",
    "    model_output = (weights*3).sum()\n",
    "    model_output.backward()\n",
    "    print(weights.grad)\n",
    "    weights.grad.zero_()"
   ]
  },
  {
   "cell_type": "code",
   "execution_count": null,
   "id": "f1067c97-7c90-4146-91f1-38cfe915fb15",
   "metadata": {},
   "outputs": [],
   "source": []
  }
 ],
 "metadata": {
  "kernelspec": {
   "display_name": "Python [conda env:base] *",
   "language": "python",
   "name": "conda-base-py"
  },
  "language_info": {
   "codemirror_mode": {
    "name": "ipython",
    "version": 3
   },
   "file_extension": ".py",
   "mimetype": "text/x-python",
   "name": "python",
   "nbconvert_exporter": "python",
   "pygments_lexer": "ipython3",
   "version": "3.12.7"
  }
 },
 "nbformat": 4,
 "nbformat_minor": 5
}
