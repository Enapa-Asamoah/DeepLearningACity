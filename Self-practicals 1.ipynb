{
 "cells": [
  {
   "cell_type": "markdown",
   "id": "3b7dbc3d-1ea9-4fae-9fd9-f2e1eaa34f72",
   "metadata": {},
   "source": [
    "**Operations for Tensors**"
   ]
  },
  {
   "cell_type": "code",
   "execution_count": 20,
   "id": "27ba1f5f-380e-4786-937c-0940fb5ff51e",
   "metadata": {},
   "outputs": [],
   "source": [
    "import torch"
   ]
  },
  {
   "cell_type": "code",
   "execution_count": 24,
   "id": "26684f1b-9b2c-47ef-98dd-ed89fef1e310",
   "metadata": {},
   "outputs": [
    {
     "name": "stdout",
     "output_type": "stream",
     "text": [
      "tensor([0., 0., 0.])\n"
     ]
    }
   ],
   "source": [
    "x = torch.empty(3)\n",
    "print(x)"
   ]
  },
  {
   "cell_type": "code",
   "execution_count": 28,
   "id": "0aa04325-d910-451f-97f6-ee841967de78",
   "metadata": {},
   "outputs": [
    {
     "name": "stdout",
     "output_type": "stream",
     "text": [
      "tensor([[0.3451, 0.6855],\n",
      "        [0.1917, 0.6562],\n",
      "        [0.2547, 0.1577]])\n"
     ]
    }
   ],
   "source": [
    "x = torch.rand(3,2)\n",
    "print(x)"
   ]
  },
  {
   "cell_type": "code",
   "execution_count": 32,
   "id": "28fb3e77-5a5c-4e6b-bf48-24529c5f56a2",
   "metadata": {},
   "outputs": [
    {
     "name": "stdout",
     "output_type": "stream",
     "text": [
      "torch.int32\n",
      "torch.Size([2, 4])\n"
     ]
    }
   ],
   "source": [
    "x = torch.ones(2,4, dtype=torch.int)\n",
    "print(x.dtype)\n",
    "print(x.size())"
   ]
  },
  {
   "cell_type": "code",
   "execution_count": 36,
   "id": "c00672f5-5588-4387-85da-ab950001a325",
   "metadata": {},
   "outputs": [
    {
     "name": "stdout",
     "output_type": "stream",
     "text": [
      "tensor([1, 2, 3, 4])\n"
     ]
    }
   ],
   "source": [
    "x = [1,2,3,4]\n",
    "x = torch.tensor(x)\n",
    "print(x)"
   ]
  },
  {
   "cell_type": "code",
   "execution_count": 70,
   "id": "47e3dffb-be36-44b1-9fc4-44c785864055",
   "metadata": {},
   "outputs": [
    {
     "name": "stdout",
     "output_type": "stream",
     "text": [
      "tensor([3, 5, 7, 9])\n",
      "[2, 3, 4, 5]\n"
     ]
    }
   ],
   "source": [
    "y = [2,3,4,5]\n",
    "z = x+torch.tensor(y)\n",
    "print(z)\n",
    "print(y)"
   ]
  },
  {
   "cell_type": "code",
   "execution_count": 80,
   "id": "c2d19cdd-e637-4502-a2fc-5a5fd73216e4",
   "metadata": {},
   "outputs": [
    {
     "data": {
      "text/plain": [
       "tensor([ 5,  8, 11, 14])"
      ]
     },
     "execution_count": 80,
     "metadata": {},
     "output_type": "execute_result"
    }
   ],
   "source": [
    "torch.add(z, torch.tensor(y))"
   ]
  },
  {
   "cell_type": "code",
   "execution_count": 82,
   "id": "a35525eb-422e-4acc-a65b-11b1465a8be3",
   "metadata": {},
   "outputs": [
    {
     "data": {
      "text/plain": [
       "tensor([2, 3, 4, 5])"
      ]
     },
     "execution_count": 82,
     "metadata": {},
     "output_type": "execute_result"
    }
   ],
   "source": [
    "torch.sub(z, x)"
   ]
  },
  {
   "cell_type": "code",
   "execution_count": 84,
   "id": "b8192848-984a-40ab-99f1-9ff456c82383",
   "metadata": {},
   "outputs": [
    {
     "data": {
      "text/plain": [
       "tensor([ 3, 10, 21, 36])"
      ]
     },
     "execution_count": 84,
     "metadata": {},
     "output_type": "execute_result"
    }
   ],
   "source": [
    "torch.mul(z, x)"
   ]
  },
  {
   "cell_type": "code",
   "execution_count": 86,
   "id": "5e80ce8b-e30d-4adf-b5e1-0908bc48e06d",
   "metadata": {},
   "outputs": [
    {
     "data": {
      "text/plain": [
       "tensor([3.0000, 2.5000, 2.3333, 2.2500])"
      ]
     },
     "execution_count": 86,
     "metadata": {},
     "output_type": "execute_result"
    }
   ],
   "source": [
    "torch.div(z, x)"
   ]
  },
  {
   "cell_type": "code",
   "execution_count": 76,
   "id": "6ae7fb29-9fd5-490d-b617-c3c69c4bf324",
   "metadata": {},
   "outputs": [
    {
     "name": "stdout",
     "output_type": "stream",
     "text": [
      "tensor([2, 3, 4, 5])\n"
     ]
    },
    {
     "data": {
      "text/plain": [
       "tensor([ 4,  6,  8, 10])"
      ]
     },
     "execution_count": 76,
     "metadata": {},
     "output_type": "execute_result"
    }
   ],
   "source": [
    "a = torch.tensor(y)\n",
    "print(a)\n",
    "a.add_(z-x)"
   ]
  },
  {
   "cell_type": "code",
   "execution_count": 112,
   "id": "c57c6c44-6537-41b9-9dfb-4d812dda426c",
   "metadata": {},
   "outputs": [
    {
     "name": "stdout",
     "output_type": "stream",
     "text": [
      "tensor([[0.4827, 0.4343, 0.6226, 0.9058, 0.8467],\n",
      "        [0.4860, 0.6312, 0.4844, 0.8436, 0.2603],\n",
      "        [0.4836, 0.5202, 0.5219, 0.4857, 0.2247],\n",
      "        [0.3705, 0.5056, 0.8963, 0.0279, 0.0667]])\n",
      "tensor([0.4860, 0.6312, 0.4844, 0.8436, 0.2603])\n",
      "0.4835948944091797\n"
     ]
    },
    {
     "data": {
      "text/plain": [
       "torch.Size([4, 5])"
      ]
     },
     "execution_count": 112,
     "metadata": {},
     "output_type": "execute_result"
    }
   ],
   "source": [
    "r = torch.rand(4,5)\n",
    "print(r)\n",
    "print(r[1,:])\n",
    "print(r[2,0].item())\n",
    "r.size()"
   ]
  },
  {
   "cell_type": "code",
   "execution_count": 114,
   "id": "bcc78f6e-f0ae-48d8-8532-c5b867f63ffc",
   "metadata": {},
   "outputs": [
    {
     "name": "stdout",
     "output_type": "stream",
     "text": [
      "tensor([[0.4827, 0.4343],\n",
      "        [0.6226, 0.9058],\n",
      "        [0.8467, 0.4860],\n",
      "        [0.6312, 0.4844],\n",
      "        [0.8436, 0.2603],\n",
      "        [0.4836, 0.5202],\n",
      "        [0.5219, 0.4857],\n",
      "        [0.2247, 0.3705],\n",
      "        [0.5056, 0.8963],\n",
      "        [0.0279, 0.0667]])\n"
     ]
    },
    {
     "data": {
      "text/plain": [
       "torch.Size([10, 2])"
      ]
     },
     "execution_count": 114,
     "metadata": {},
     "output_type": "execute_result"
    }
   ],
   "source": [
    "r = r.view(-1, 2)\n",
    "print(r)\n",
    "r.size()"
   ]
  },
  {
   "cell_type": "markdown",
   "id": "cd89f68b-8d69-48a7-bf48-bc0ac5ea43dd",
   "metadata": {},
   "source": [
    "**Conversion from Numpy array to Tensor and vice versa**"
   ]
  },
  {
   "cell_type": "code",
   "execution_count": 122,
   "id": "dffdfb6d-a34f-4ed3-b68b-aa50b46334bb",
   "metadata": {},
   "outputs": [],
   "source": [
    "import numpy as np"
   ]
  },
  {
   "cell_type": "code",
   "execution_count": 124,
   "id": "fa296a35-4eb8-455e-aa11-2e8353f27cfb",
   "metadata": {},
   "outputs": [
    {
     "name": "stdout",
     "output_type": "stream",
     "text": [
      "tensor([0., 0., 0., 0.])\n",
      "[0. 0. 0. 0.]\n",
      "float32\n"
     ]
    }
   ],
   "source": [
    "a = torch.zeros(4)\n",
    "print(a)\n",
    "b = a.numpy()\n",
    "print(b)\n",
    "print(b.dtype)"
   ]
  },
  {
   "cell_type": "code",
   "execution_count": 126,
   "id": "f708f904-91f5-474c-ad94-e7012ca9d275",
   "metadata": {},
   "outputs": [
    {
     "name": "stdout",
     "output_type": "stream",
     "text": [
      "[1. 1. 1. 1. 1.]\n",
      "tensor([1., 1., 1., 1., 1.], dtype=torch.float64)\n"
     ]
    }
   ],
   "source": [
    "a = np.ones(5)\n",
    "print(a)\n",
    "b = torch.from_numpy(a)\n",
    "print(b)"
   ]
  },
  {
   "cell_type": "code",
   "execution_count": null,
   "id": "e7e11f64-bd26-4bdf-b23f-630c735fcbf4",
   "metadata": {},
   "outputs": [],
   "source": []
  }
 ],
 "metadata": {
  "kernelspec": {
   "display_name": "Python [conda env:base] *",
   "language": "python",
   "name": "conda-base-py"
  },
  "language_info": {
   "codemirror_mode": {
    "name": "ipython",
    "version": 3
   },
   "file_extension": ".py",
   "mimetype": "text/x-python",
   "name": "python",
   "nbconvert_exporter": "python",
   "pygments_lexer": "ipython3",
   "version": "3.12.7"
  }
 },
 "nbformat": 4,
 "nbformat_minor": 5
}
